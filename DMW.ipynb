{
 "cells": [
  {
   "cell_type": "code",
   "execution_count": 1,
   "metadata": {},
   "outputs": [],
   "source": [
    "import numpy as np\n",
    "import pandas as pd\n",
    "import tensorflow as tf"
   ]
  },
  {
   "cell_type": "code",
   "execution_count": 2,
   "metadata": {},
   "outputs": [
    {
     "name": "stdout",
     "output_type": "stream",
     "text": [
      "We have 80999 examples and each example is a list of 3136 numbers with 6 possible classifications.\n",
      "(80999, 28, 28, 4)\n"
     ]
    }
   ],
   "source": [
    "x_train_path = 'archive/X_test_sat6.csv'\n",
    "y_train_path = 'archive/y_test_sat6.csv'\n",
    "\n",
    "X_train = pd.read_csv(x_train_path)\n",
    "y_train = pd.read_csv(y_train_path)\n",
    "\n",
    "\n",
    "X_train = X_train.to_numpy()\n",
    "y_train = y_train.to_numpy()\n",
    "print ('We have',X_train.shape[0],'examples and each example is a list of',X_train.shape[1],'numbers with',y_train.shape[1],'possible classifications.')\n",
    "\n",
    "X_train_img = X_train.reshape([80999,28,28,4]).astype(float)\n",
    "print (X_train_img.shape)"
   ]
  },
  {
   "cell_type": "code",
   "execution_count": 3,
   "metadata": {},
   "outputs": [
    {
     "data": {
      "text/plain": [
       "array([0, 0, 1, 0, 0, 0], dtype=int64)"
      ]
     },
     "execution_count": 3,
     "metadata": {},
     "output_type": "execute_result"
    }
   ],
   "source": [
    "y_train[0]"
   ]
  },
  {
   "cell_type": "code",
   "execution_count": 4,
   "metadata": {},
   "outputs": [
    {
     "name": "stdout",
     "output_type": "stream",
     "text": [
      "[0 0 1 0 0 0]\n"
     ]
    }
   ],
   "source": [
    "print(y_train[0])"
   ]
  },
  {
   "cell_type": "code",
   "execution_count": 5,
   "metadata": {},
   "outputs": [
    {
     "name": "stdout",
     "output_type": "stream",
     "text": [
      "[102 102 103 ...  85  76 130]\n"
     ]
    }
   ],
   "source": [
    "print(X_train[0])"
   ]
  },
  {
   "cell_type": "code",
   "execution_count": 6,
   "metadata": {},
   "outputs": [],
   "source": [
    "X_train = (X_train-X_train.mean())/X_train.std()"
   ]
  },
  {
   "cell_type": "code",
   "execution_count": 7,
   "metadata": {},
   "outputs": [
    {
     "name": "stdout",
     "output_type": "stream",
     "text": [
      "[-0.18139558 -0.18139558 -0.16354242 ... -0.48489916 -0.64557752\n",
      "  0.31849268]\n"
     ]
    }
   ],
   "source": [
    "print(X_train[0])"
   ]
  },
  {
   "cell_type": "code",
   "execution_count": 8,
   "metadata": {},
   "outputs": [
    {
     "name": "stdout",
     "output_type": "stream",
     "text": [
      "Model: \"sequential\"\n",
      "_________________________________________________________________\n",
      "Layer (type)                 Output Shape              Param #   \n",
      "=================================================================\n",
      "dense (Dense)                (None, 1024)              3212288   \n",
      "_________________________________________________________________\n",
      "dropout (Dropout)            (None, 1024)              0         \n",
      "_________________________________________________________________\n",
      "dense_1 (Dense)              (None, 256)               262400    \n",
      "_________________________________________________________________\n",
      "dense_2 (Dense)              (None, 32)                8224      \n",
      "_________________________________________________________________\n",
      "dense_3 (Dense)              (None, 6)                 198       \n",
      "=================================================================\n",
      "Total params: 3,483,110\n",
      "Trainable params: 3,483,110\n",
      "Non-trainable params: 0\n",
      "_________________________________________________________________\n"
     ]
    }
   ],
   "source": [
    "model = tf.keras.models.Sequential([\n",
    "    tf.keras.layers.Dense(1024, input_shape=(3136,), activation=tf.nn.relu),\n",
    "    tf.keras.layers.Dropout(0.25),\n",
    "    tf.keras.layers.Dense(256,activation=tf.nn.relu),\n",
    "    \n",
    "    tf.keras.layers.Dense(32,activation=tf.nn.relu),\n",
    "    tf.keras.layers.Dense(6,activation=tf.nn.softmax)\n",
    "])\n",
    "model.compile(optimizer='adam', loss='categorical_crossentropy', metrics=['accuracy'])\n",
    "model.summary()"
   ]
  },
  {
   "cell_type": "code",
   "execution_count": 9,
   "metadata": {},
   "outputs": [
    {
     "name": "stdout",
     "output_type": "stream",
     "text": [
      "Epoch 1/5\n",
      "2279/2279 [==============================] - 46s 20ms/step - loss: 0.2458 - accuracy: 0.9150 - val_loss: 0.1209 - val_accuracy: 0.9563\n",
      "Epoch 2/5\n",
      "2279/2279 [==============================] - 43s 19ms/step - loss: 0.1407 - accuracy: 0.9492 - val_loss: 0.1091 - val_accuracy: 0.9611\n",
      "Epoch 3/5\n",
      "2279/2279 [==============================] - 43s 19ms/step - loss: 0.1216 - accuracy: 0.9576 - val_loss: 0.1242 - val_accuracy: 0.9531\n",
      "Epoch 4/5\n",
      "2279/2279 [==============================] - 45s 20ms/step - loss: 0.1123 - accuracy: 0.9622 - val_loss: 0.1279 - val_accuracy: 0.9512\n",
      "Epoch 5/5\n",
      "2279/2279 [==============================] - 44s 19ms/step - loss: 0.1006 - accuracy: 0.9655 - val_loss: 0.0854 - val_accuracy: 0.9686\n"
     ]
    },
    {
     "data": {
      "text/plain": [
       "<tensorflow.python.keras.callbacks.History at 0x19b2860d7f0>"
      ]
     },
     "execution_count": 9,
     "metadata": {},
     "output_type": "execute_result"
    }
   ],
   "source": [
    "model.fit(X_train,y_train,batch_size=32, epochs=5, verbose=1, validation_split=0.1)"
   ]
  },
  {
   "cell_type": "code",
   "execution_count": 16,
   "metadata": {},
   "outputs": [
    {
     "name": "stdout",
     "output_type": "stream",
     "text": [
      "32/32 [==============================] - 0s 3ms/step\n",
      "Prediction:\n",
      "0.0% probability barren land,\n",
      "0.0% probability trees,\n",
      "100.0% probability grassland,\n",
      "0.0% probability other\n",
      "\n",
      "Ground Truth: Grassland\n"
     ]
    }
   ],
   "source": [
    "preds = model.predict(X_train[-1000:], verbose=1)\n",
    "ix = 465 #Type a number between 0 and 999 inclusive\n",
    "#Tells what the image is\n",
    "print ('Prediction:\\n{:.1f}% probability barren land,\\n{:.1f}% probability trees,\\n{:.1f}% probability grassland,\\n{:.1f}% probability other\\n'.format(preds[ix,0]*100,preds[ix,1]*100,preds[ix,2]*100,preds[ix,3]*100))\n",
    "\n",
    "print ('Ground Truth: ',end='')\n",
    "if y_train[80999-(1000-ix),0] == 1:\n",
    "    print ('Barren Land')\n",
    "elif y_train[80999-(1000-ix),1] == 1:\n",
    "    print ('Trees')\n",
    "elif y_train[80999-(1000-ix),2] == 1:\n",
    "    print ('Grassland')\n",
    "else:\n",
    "    print ('Other')"
   ]
  },
  {
   "cell_type": "code",
   "execution_count": 17,
   "metadata": {},
   "outputs": [
    {
     "name": "stdout",
     "output_type": "stream",
     "text": [
      "INFO:tensorflow:Assets written to: SAT6.model\\assets\n"
     ]
    }
   ],
   "source": [
    "model.save('SAT6.model')"
   ]
  },
  {
   "cell_type": "code",
   "execution_count": null,
   "metadata": {},
   "outputs": [],
   "source": []
  }
 ],
 "metadata": {
  "kernelspec": {
   "display_name": "Python 3",
   "language": "python",
   "name": "python3"
  },
  "language_info": {
   "codemirror_mode": {
    "name": "ipython",
    "version": 3
   },
   "file_extension": ".py",
   "mimetype": "text/x-python",
   "name": "python",
   "nbconvert_exporter": "python",
   "pygments_lexer": "ipython3",
   "version": "3.8.5"
  }
 },
 "nbformat": 4,
 "nbformat_minor": 4
}
